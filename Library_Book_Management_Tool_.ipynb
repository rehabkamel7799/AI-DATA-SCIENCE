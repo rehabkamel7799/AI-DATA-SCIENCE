{
  "nbformat": 4,
  "nbformat_minor": 0,
  "metadata": {
    "colab": {
      "provenance": []
    },
    "kernelspec": {
      "name": "python3",
      "display_name": "Python 3"
    },
    "language_info": {
      "name": "python"
    }
  },
  "cells": [
    {
      "cell_type": "code",
      "execution_count": null,
      "metadata": {
        "id": "Y46gNbA9VU0x"
      },
      "outputs": [],
      "source": [
        "Library = {\n",
        "    'Pollyanna' : 1913,\n",
        "    'Pride and Prejudice' : 1813,\n",
        "    'As You Like It' : 1623,\n",
        "    'Oliver Twist' : 1838,\n",
        "}"
      ]
    },
    {
      "cell_type": "markdown",
      "source": [
        "Add new_book"
      ],
      "metadata": {
        "id": "2zRrVsaWY0KY"
      }
    },
    {
      "cell_type": "code",
      "source": [
        "def book_adding():\n",
        "  book_name =str(input('enter the title'))\n",
        "  publication_year =int(input('enter the year'))\n",
        "\n",
        "\n",
        "  if book_name in Library:\n",
        "    print('Already found')\n",
        "  else:\n",
        "    print('Done')\n",
        "    Library [book_name] = publication_year\n"
      ],
      "metadata": {
        "id": "wjRAF4U1YzmA"
      },
      "execution_count": null,
      "outputs": []
    },
    {
      "cell_type": "markdown",
      "source": [
        "Searching for a book in Library"
      ],
      "metadata": {
        "id": "pnfqWc28jLgA"
      }
    },
    {
      "cell_type": "code",
      "source": [
        "def search_book():\n",
        "  name =str(input('enter the title'))\n",
        "  if name in Library:\n",
        "    print('found')\n",
        "  else:\n",
        "    print('Not found')"
      ],
      "metadata": {
        "id": "AuT-ARcBjLSs"
      },
      "execution_count": null,
      "outputs": []
    },
    {
      "cell_type": "markdown",
      "source": [
        "Deleting a book"
      ],
      "metadata": {
        "id": "1RWKrfE3bQ-9"
      }
    },
    {
      "cell_type": "code",
      "source": [
        "def del_book():\n",
        "  title =str(input('the book u want to remove'))\n",
        "  if title in Library:\n",
        "    Library.pop(title)\n",
        "    print(\"Deleted\")\n",
        "\n",
        "  else:\n",
        "    print('Not found')"
      ],
      "metadata": {
        "id": "5PrYgreYZ-aW"
      },
      "execution_count": null,
      "outputs": []
    },
    {
      "cell_type": "code",
      "source": [
        "def display_books():\n",
        "  if not Library:\n",
        "    print('Empty Library')\n",
        "  else:\n",
        "    print('All available books')\n",
        "  for title, year in Library.items():\n",
        "    print(f'{title} - {year}')"
      ],
      "metadata": {
        "id": "HKrE6T1JbPvQ"
      },
      "execution_count": null,
      "outputs": []
    },
    {
      "cell_type": "code",
      "source": [
        "book_adding()\n",
        "search_book()\n",
        "del_book()\n",
        "display_books()\n",
        "\n"
      ],
      "metadata": {
        "colab": {
          "base_uri": "https://localhost:8080/"
        },
        "id": "d5alDcg0cfrw",
        "outputId": "0da6dc3b-a66e-47ef-bf28-32690f0da3cb"
      },
      "execution_count": null,
      "outputs": [
        {
          "output_type": "stream",
          "name": "stdout",
          "text": [
            "enter the titleThe Zoo\n",
            "enter the year2012\n",
            "Done\n",
            "enter the titleJane\n",
            "Not found\n",
            "the book u want to removeOliver Twist\n",
            "Deleted\n",
            "All available books\n",
            "Pollyanna - 1913\n",
            "Pride and Prejudice - 1813\n",
            "As You Like It - 1623\n",
            "The Zoo - 2012\n"
          ]
        }
      ]
    }
  ]
}