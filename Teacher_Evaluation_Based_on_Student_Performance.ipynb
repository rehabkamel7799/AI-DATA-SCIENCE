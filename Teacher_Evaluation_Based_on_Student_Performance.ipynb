{
  "nbformat": 4,
  "nbformat_minor": 0,
  "metadata": {
    "colab": {
      "provenance": []
    },
    "kernelspec": {
      "name": "python3",
      "display_name": "Python 3"
    },
    "language_info": {
      "name": "python"
    }
  },
  "cells": [
    {
      "cell_type": "markdown",
      "source": [
        "Degrees"
      ],
      "metadata": {
        "id": "gfdDd8m_zesD"
      }
    },
    {
      "cell_type": "code",
      "source": [
        "Degrees = []\n",
        "for i in range(10):\n",
        "  D =int(input('enter the degree'))\n",
        "  Degrees.append(D)\n",
        "Ave =sum(Degrees)/ 10\n",
        "print(Ave)\n",
        "if Ave >= 70:\n",
        "  print('Accepted')\n",
        "elif Ave < 70:\n",
        "  print('rejected')"
      ],
      "metadata": {
        "colab": {
          "base_uri": "https://localhost:8080/"
        },
        "id": "akFUb2KLzlxd",
        "outputId": "16e61af0-2dd5-41d8-91c5-344633c9de2f"
      },
      "execution_count": null,
      "outputs": [
        {
          "output_type": "stream",
          "name": "stdout",
          "text": [
            "enter the degree77\n",
            "enter the degree54\n",
            "enter the degree67\n",
            "enter the degree81\n",
            "enter the degree70\n",
            "enter the degree59\n",
            "enter the degree84\n",
            "enter the degree91\n",
            "enter the degree81\n",
            "enter the degree64\n",
            "72.8\n",
            "Accepted\n"
          ]
        }
      ]
    }
  ]
}